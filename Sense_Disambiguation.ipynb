{
  "nbformat": 4,
  "nbformat_minor": 0,
  "metadata": {
    "colab": {
      "provenance": []
    },
    "kernelspec": {
      "name": "python3",
      "display_name": "Python 3"
    },
    "language_info": {
      "name": "python"
    }
  },
  "cells": [
    {
      "cell_type": "markdown",
      "source": [
        "# Sense Disambiguation Task"
      ],
      "metadata": {
        "id": "PK2GqcJP-QV-"
      }
    },
    {
      "cell_type": "markdown",
      "source": [
        "## Imports and Setup"
      ],
      "metadata": {
        "id": "7BWN37_v_Om_"
      }
    },
    {
      "cell_type": "code",
      "execution_count": 14,
      "metadata": {
        "colab": {
          "base_uri": "https://localhost:8080/"
        },
        "id": "meHI515t3QQp",
        "outputId": "795ee3f7-8579-464e-946e-49ed26628f76"
      },
      "outputs": [
        {
          "output_type": "stream",
          "name": "stderr",
          "text": [
            "[nltk_data] Downloading package wordnet to /root/nltk_data...\n",
            "[nltk_data]   Package wordnet is already up-to-date!\n",
            "[nltk_data] Downloading package omw-1.4 to /root/nltk_data...\n",
            "[nltk_data]   Package omw-1.4 is already up-to-date!\n",
            "[nltk_data] Downloading package punkt to /root/nltk_data...\n",
            "[nltk_data]   Package punkt is already up-to-date!\n",
            "[nltk_data] Downloading package punkt_tab to /root/nltk_data...\n",
            "[nltk_data]   Package punkt_tab is already up-to-date!\n",
            "[nltk_data] Downloading package averaged_perceptron_tagger to\n",
            "[nltk_data]     /root/nltk_data...\n",
            "[nltk_data]   Package averaged_perceptron_tagger is already up-to-\n",
            "[nltk_data]       date!\n"
          ]
        }
      ],
      "source": [
        "# Imports\n",
        "import nltk\n",
        "nltk.download('wordnet')\n",
        "nltk.download('omw-1.4')\n",
        "nltk.download('punkt')\n",
        "nltk.download('punkt_tab')\n",
        "nltk.download('averaged_perceptron_tagger')\n",
        "\n",
        "from nltk.corpus import wordnet as wn\n",
        "from nltk.tokenize import word_tokenize\n",
        "from nltk.stem import WordNetLemmatizer"
      ]
    },
    {
      "cell_type": "code",
      "source": [
        "lemmatizer = WordNetLemmatizer()"
      ],
      "metadata": {
        "id": "3WYRSCn946Eg"
      },
      "execution_count": 15,
      "outputs": []
    },
    {
      "cell_type": "markdown",
      "source": [
        "##  Define the Lesk Algorithm\n"
      ],
      "metadata": {
        "id": "KQt3Oqs2-4M4"
      }
    },
    {
      "cell_type": "code",
      "source": [
        "def lesk_with_debug(context_sentence, ambiguous_word):\n",
        "    context = set(lemmatizer.lemmatize(w.lower()) for w in context_sentence)\n",
        "    best_sense = None\n",
        "    max_overlap = 0\n",
        "\n",
        "    print(f\"\\ All senses for '{ambiguous_word}':\")\n",
        "    for sense in wn.synsets(ambiguous_word):\n",
        "        print(f\"  {sense.name():<20} — {sense.definition()}\")\n",
        "\n",
        "    print(\"\\n Evaluating senses with overlap:\")\n",
        "    for sense in wn.synsets(ambiguous_word):\n",
        "        # Gloss + examples + hypernyms\n",
        "        signature = set(nltk.word_tokenize(sense.definition()))\n",
        "        signature |= set(sum([nltk.word_tokenize(ex) for ex in sense.examples()], []))\n",
        "        for hyper in sense.hypernyms():\n",
        "            signature |= set(nltk.word_tokenize(hyper.definition()))\n",
        "        # Lemmatize signature\n",
        "        signature = set(lemmatizer.lemmatize(w.lower()) for w in signature)\n",
        "\n",
        "        overlap = len(context & signature)\n",
        "        print(f\"Trying: {sense.name():<20} | Overlap = {overlap}\")\n",
        "        if overlap > max_overlap:\n",
        "            max_overlap = overlap\n",
        "            best_sense = sense\n",
        "\n",
        "    return best_sense"
      ],
      "metadata": {
        "id": "sKDSxkL649E5"
      },
      "execution_count": 17,
      "outputs": []
    },
    {
      "cell_type": "markdown",
      "source": [
        "## Input Sentences and Target Words"
      ],
      "metadata": {
        "id": "5bAlwqzr_S8F"
      }
    },
    {
      "cell_type": "code",
      "source": [
        "# Word Sense Disambiguation using Lesk\n",
        "\n",
        "# Define sample sentences\n",
        "sentences = [\n",
        "    \"He sat on the bank of the river.\",       # bank = riverbank\n",
        "    \"She deposited the money at the bank.\",   # bank = financial institution\n",
        "    \"The crane is flying over the construction site.\",  # crane = bird or machine?\n",
        "    \"He couldn't bear the pain any longer.\",  # bear = tolerate or animal?\n",
        "    \"The cell was locked for the night.\"      # cell = prison or biology?\n",
        "]\n",
        "\n",
        "# Target words for disambiguation\n",
        "target_words = [\"bank\", \"bank\", \"crane\", \"bear\", \"cell\"]"
      ],
      "metadata": {
        "id": "9HaqLqR43T2_"
      },
      "execution_count": 18,
      "outputs": []
    },
    {
      "cell_type": "markdown",
      "source": [
        "## Run Disambiguation with Full Sense & Overlap Info\n"
      ],
      "metadata": {
        "id": "ulbKn_sH_WHN"
      }
    },
    {
      "cell_type": "code",
      "source": [
        "for sentence, word in zip(sentences, target_words):\n",
        "    print(\"\\n\" + \"=\"*80)\n",
        "    print(f\" Sentence: {sentence}\")\n",
        "    context = word_tokenize(sentence)\n",
        "    sense = lesk_with_debug(context, word)\n",
        "\n",
        "    # Show all senses briefly\n",
        "    print(f\"\\nPossible Senses for '{word}':\")\n",
        "    for syn in wn.synsets(word):\n",
        "        print(f\"  - {syn.name():<25} → {syn.definition()}\")\n",
        "\n",
        "    # Final prediction\n",
        "    if sense:\n",
        "        print(\"\\nPredicted Sense:\")\n",
        "        print(f\"   {sense.name()} — {sense.definition()}\")\n",
        "    else:\n",
        "        print(\"\\n No suitable sense found.\")\n",
        "\n"
      ],
      "metadata": {
        "colab": {
          "base_uri": "https://localhost:8080/"
        },
        "id": "FwDUwCyD3itS",
        "outputId": "8de4463c-d981-4569-d3cc-7bb4dab0a651"
      },
      "execution_count": 36,
      "outputs": [
        {
          "output_type": "stream",
          "name": "stdout",
          "text": [
            "\n",
            "================================================================================\n",
            " Sentence: He sat on the bank of the river.\n",
            "\n",
            "Possible Senses for 'bank':\n",
            "  - bank.n.01                 → sloping land (especially the slope beside a body of water)\n",
            "  - depository_financial_institution.n.01 → a financial institution that accepts deposits and channels the money into lending activities\n",
            "  - bank.n.03                 → a long ridge or pile\n",
            "  - bank.n.04                 → an arrangement of similar objects in a row or in tiers\n",
            "  - bank.n.05                 → a supply or stock held in reserve for future use (especially in emergencies)\n",
            "  - bank.n.06                 → the funds held by a gambling house or the dealer in some gambling games\n",
            "  - bank.n.07                 → a slope in the turn of a road or track; the outside is higher than the inside in order to reduce the effects of centrifugal force\n",
            "  - savings_bank.n.02         → a container (usually with a slot in the top) for keeping money at home\n",
            "  - bank.n.09                 → a building in which the business of banking transacted\n",
            "  - bank.n.10                 → a flight maneuver; aircraft tips laterally about its longitudinal axis (especially in turning)\n",
            "  - bank.v.01                 → tip laterally\n",
            "  - bank.v.02                 → enclose with a bank\n",
            "  - bank.v.03                 → do business with a bank or keep an account at a bank\n",
            "  - bank.v.04                 → act as the banker in a game or in gambling\n",
            "  - bank.v.05                 → be in the banking business\n",
            "  - deposit.v.02              → put into a bank account\n",
            "  - bank.v.07                 → cover with ashes so to control the rate of burning\n",
            "  - trust.v.01                → have confidence or faith in\n",
            "\n",
            "Predicted Sense:\n",
            "   bank.n.01 — sloping land (especially the slope beside a body of water)\n",
            "\n",
            "================================================================================\n",
            " Sentence: She deposited the money at the bank.\n",
            "\n",
            "Possible Senses for 'bank':\n",
            "  - bank.n.01                 → sloping land (especially the slope beside a body of water)\n",
            "  - depository_financial_institution.n.01 → a financial institution that accepts deposits and channels the money into lending activities\n",
            "  - bank.n.03                 → a long ridge or pile\n",
            "  - bank.n.04                 → an arrangement of similar objects in a row or in tiers\n",
            "  - bank.n.05                 → a supply or stock held in reserve for future use (especially in emergencies)\n",
            "  - bank.n.06                 → the funds held by a gambling house or the dealer in some gambling games\n",
            "  - bank.n.07                 → a slope in the turn of a road or track; the outside is higher than the inside in order to reduce the effects of centrifugal force\n",
            "  - savings_bank.n.02         → a container (usually with a slot in the top) for keeping money at home\n",
            "  - bank.n.09                 → a building in which the business of banking transacted\n",
            "  - bank.n.10                 → a flight maneuver; aircraft tips laterally about its longitudinal axis (especially in turning)\n",
            "  - bank.v.01                 → tip laterally\n",
            "  - bank.v.02                 → enclose with a bank\n",
            "  - bank.v.03                 → do business with a bank or keep an account at a bank\n",
            "  - bank.v.04                 → act as the banker in a game or in gambling\n",
            "  - bank.v.05                 → be in the banking business\n",
            "  - deposit.v.02              → put into a bank account\n",
            "  - bank.v.07                 → cover with ashes so to control the rate of burning\n",
            "  - trust.v.01                → have confidence or faith in\n",
            "\n",
            "Predicted Sense:\n",
            "   depository_financial_institution.n.01 — a financial institution that accepts deposits and channels the money into lending activities\n",
            "\n",
            "================================================================================\n",
            " Sentence: The crane is flying over the construction site.\n",
            "\n",
            "Possible Senses for 'crane':\n",
            "  - crane.n.01                → United States writer (1871-1900)\n",
            "  - crane.n.02                → United States poet (1899-1932)\n",
            "  - grus.n.01                 → a small constellation in the southern hemisphere near Phoenix\n",
            "  - crane.n.04                → lifts and moves heavy objects; lifting tackle is suspended from a pivoted boom that rotates around a vertical axis\n",
            "  - crane.n.05                → large long-necked wading bird of marshes and plains in many parts of the world\n",
            "  - crane.v.01                → stretch (the neck) so as to see better\n",
            "\n",
            "Predicted Sense:\n",
            "   grus.n.01 — a small constellation in the southern hemisphere near Phoenix\n",
            "\n",
            "================================================================================\n",
            " Sentence: He couldn't bear the pain any longer.\n",
            "\n",
            "Possible Senses for 'bear':\n",
            "  - bear.n.01                 → massive plantigrade carnivorous or omnivorous mammals with long shaggy coats and strong claws\n",
            "  - bear.n.02                 → an investor with a pessimistic market outlook; an investor who expects prices to fall and so sells now in order to buy later at a lower price\n",
            "  - bear.v.01                 → have\n",
            "  - give_birth.v.01           → cause to be born\n",
            "  - digest.v.03               → put up with something or somebody unpleasant\n",
            "  - bear.v.04                 → move while holding up or supporting\n",
            "  - bear.v.05                 → bring forth,\n",
            "  - bear.v.06                 → take on as one's own the expenses or debts of another person\n",
            "  - hold.v.11                 → contain or hold; have within\n",
            "  - yield.v.10                → bring in\n",
            "  - wear.v.02                 → have on one's person\n",
            "  - behave.v.02               → behave in a certain manner\n",
            "  - bear.v.11                 → have rightfully; of rights, titles, and offices\n",
            "  - hold.v.14                 → support or hold in a certain manner\n",
            "  - have_a_bun_in_the_oven.v.01 → be pregnant with\n",
            "\n",
            "Predicted Sense:\n",
            "   digest.v.03 — put up with something or somebody unpleasant\n",
            "\n",
            "================================================================================\n",
            " Sentence: The cell was locked for the night.\n",
            "\n",
            "Possible Senses for 'cell':\n",
            "  - cell.n.01                 → any small compartment\n",
            "  - cell.n.02                 → (biology) the basic structural and functional unit of all organisms; they may exist as independent units of life (as in monads) or may form colonies or tissues as in higher plants and animals\n",
            "  - cell.n.03                 → a device that delivers an electric current as the result of a chemical reaction\n",
            "  - cell.n.04                 → a small unit serving as part of or as the nucleus of a larger political movement\n",
            "  - cellular_telephone.n.01   → a hand-held mobile radiotelephone for use in an area divided into small sections, each with its own short-range transmitter/receiver\n",
            "  - cell.n.06                 → small room in which a monk or nun lives\n",
            "  - cell.n.07                 → a room where a prisoner is kept\n",
            "\n",
            "Predicted Sense:\n",
            "   cell.n.01 — any small compartment\n"
          ]
        }
      ]
    },
    {
      "cell_type": "markdown",
      "source": [
        "## Clean Version of Lesk (No Debug Output)"
      ],
      "metadata": {
        "id": "v71q3g0j_Zez"
      }
    },
    {
      "cell_type": "code",
      "source": [
        "## for clean output (no overlap info)---\n",
        "def lesk_with_debug(context_sentence, ambiguous_word):\n",
        "    context = set(lemmatizer.lemmatize(w.lower()) for w in context_sentence)\n",
        "    best_sense = None\n",
        "    max_overlap = 0\n",
        "\n",
        "    for sense in wn.synsets(ambiguous_word):\n",
        "        signature = set(nltk.word_tokenize(sense.definition()))\n",
        "        signature |= set(sum([nltk.word_tokenize(ex) for ex in sense.examples()], []))\n",
        "        for hyper in sense.hypernyms():\n",
        "            signature |= set(nltk.word_tokenize(hyper.definition()))\n",
        "        signature = set(lemmatizer.lemmatize(w.lower()) for w in signature)\n",
        "\n",
        "        overlap = len(context & signature)\n",
        "        if overlap > max_overlap:\n",
        "            max_overlap = overlap\n",
        "            best_sense = sense\n",
        "\n",
        "    return best_sense\n"
      ],
      "metadata": {
        "id": "_OdzPa8I68eX"
      },
      "execution_count": 32,
      "outputs": []
    },
    {
      "cell_type": "markdown",
      "source": [
        "## Final Output: Clean Disambiguated Meanings"
      ],
      "metadata": {
        "id": "7Vi7VE3Z_bZZ"
      }
    },
    {
      "cell_type": "code",
      "source": [
        "for sentence, word in zip(sentences, target_words):\n",
        "    context = word_tokenize(sentence)\n",
        "    sense = lesk_with_debug(context, word)  # still uses improved overlap logic\n",
        "\n",
        "    print(\"==============================================\")\n",
        "    print(f\" Sentence: {sentence}\")\n",
        "    if sense:\n",
        "        print(f\" Meaning of '{word}': {sense.definition()}\")\n",
        "    else:\n",
        "        print(f\" Meaning of '{word}': No suitable sense found.\")\n"
      ],
      "metadata": {
        "colab": {
          "base_uri": "https://localhost:8080/"
        },
        "id": "tVSdWrwS58G_",
        "outputId": "319343d1-283a-474b-c63f-2b47cf835f6a"
      },
      "execution_count": 31,
      "outputs": [
        {
          "output_type": "stream",
          "name": "stdout",
          "text": [
            "==============================================\n",
            " Sentence: He sat on the bank of the river.\n",
            " Meaning of 'bank': sloping land (especially the slope beside a body of water)\n",
            "==============================================\n",
            " Sentence: She deposited the money at the bank.\n",
            " Meaning of 'bank': a financial institution that accepts deposits and channels the money into lending activities\n",
            "==============================================\n",
            " Sentence: The crane is flying over the construction site.\n",
            " Meaning of 'crane': a small constellation in the southern hemisphere near Phoenix\n",
            "==============================================\n",
            " Sentence: He couldn't bear the pain any longer.\n",
            " Meaning of 'bear': put up with something or somebody unpleasant\n",
            "==============================================\n",
            " Sentence: The cell was locked for the night.\n",
            " Meaning of 'cell': any small compartment\n"
          ]
        }
      ]
    }
  ]
}